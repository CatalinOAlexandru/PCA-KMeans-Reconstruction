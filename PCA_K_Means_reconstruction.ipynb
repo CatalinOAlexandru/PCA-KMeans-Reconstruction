{
  "nbformat": 4,
  "nbformat_minor": 0,
  "metadata": {
    "colab": {
      "name": "PCA_K-Means_reconstruction.ipynb",
      "provenance": [],
      "collapsed_sections": [],
      "toc_visible": true
    },
    "kernelspec": {
      "name": "python3",
      "display_name": "Python 3"
    }
  },
  "cells": [
    {
      "cell_type": "markdown",
      "metadata": {
        "id": "YDSMbx-deCFZ"
      },
      "source": [
        "# Imports"
      ]
    },
    {
      "cell_type": "code",
      "metadata": {
        "id": "fLhwkD7YbOTY"
      },
      "source": [
        "# Imports\n",
        "import numpy as np\n",
        "import matplotlib.pyplot as plt\n",
        "from numpy.random import rand"
      ],
      "execution_count": null,
      "outputs": []
    },
    {
      "cell_type": "markdown",
      "metadata": {
        "id": "bmNEj3LXE9Zf"
      },
      "source": [
        "# Dataset Loading "
      ]
    },
    {
      "cell_type": "code",
      "metadata": {
        "id": "_VJzkLiwGph_"
      },
      "source": [
        "\n",
        "# Load IRIS\n",
        "X_train_iris = np.load(\"iris_train_samples.npy\")\n",
        "Y_train_iris = np.load(\"iris_train_labels.npy\")\n",
        "X_val_iris = np.load(\"iris_val_samples.npy\")\n",
        "Y_val_iris = np.load(\"iris_val_labels.npy\")\n",
        "\n",
        "# Load MNIST\n",
        "X_train_mnist = np.load(\"mnist_train_samples.npy\")\n",
        "Y_train_mnist = np.load(\"mnist_train_labels.npy\")\n",
        "X_val_mnist = np.load(\"mnist_val_samples.npy\")\n",
        "Y_val_mnist = np.load(\"mnist_val_labels.npy\")\n",
        "\n"
      ],
      "execution_count": null,
      "outputs": []
    },
    {
      "cell_type": "code",
      "metadata": {
        "id": "ZAQN34TYaGMF",
        "colab": {
          "base_uri": "https://localhost:8080/",
          "height": 392
        },
        "outputId": "d56494d5-f1fc-4746-8e11-6aa3b178f939"
      },
      "source": [
        "# Question 2-A\n",
        "\n",
        "# -------- SETTING UP PCA --------\n",
        "\n",
        "def pca(X, ndims):\n",
        "  # Standardazing the data\n",
        "  standardX = (X - np.min(X))/np.ptp(X)\n",
        "\n",
        "  # Covarience matrix\n",
        "  # Transposing standardX for easier computation (2,d)\n",
        "  covX = np.cov(standardX.T)\n",
        "\n",
        "  # Getting the Eigenvalues & Eigenvectors \n",
        "  # Sorting in decreasing order the Eighenvectors based on the Eighenvalues\n",
        "  eigVal, eigVec = np.linalg.eig(covX)\n",
        "  sorted = np.argsort(-eigVal)\n",
        "  eigVal = eigVal[sorted]\n",
        "  eigVec = eigVec[:,sorted]\n",
        "\n",
        "  # Average Vector\n",
        "  avgVec = np.mean(eigVec, axis=0) \n",
        "\n",
        "  # Top ndims components\n",
        "  top = eigVec[:,:ndims]\n",
        "\n",
        "  # Returning the Average Vector and the Top nDims Components\n",
        "  # Also returning all Eigenvectors for the final task.\n",
        "  return avgVec, top, eigVec\n",
        "\n",
        "\n",
        "\n",
        "# -------- INITIALISE --------\n",
        "dims = 10\n",
        "averageVector, topComp, eigVec = pca(X_train_mnist,dims)\n",
        "\n",
        "\n",
        "\n",
        "# -------- PLOTTING --------\n",
        "\n",
        "# Top 10 components displayed as images\n",
        "fig, axis = plt.subplots(2, 5, figsize = (16,6))\n",
        "for i in range(dims):\n",
        "  img = topComp[:,i]\n",
        "  renderImg = img.reshape((28,28))\n",
        "  plt.subplot(2, 5, i+1)\n",
        "  plt.imshow(np.real(renderImg), interpolation = \"none\", cmap='gray')\n",
        "\n",
        "plt.plot()\n",
        "\n"
      ],
      "execution_count": null,
      "outputs": [
        {
          "output_type": "execute_result",
          "data": {
            "text/plain": [
              "[]"
            ]
          },
          "metadata": {
            "tags": []
          },
          "execution_count": 24
        },
        {
          "output_type": "display_data",
          "data": {
            "image/png": "[encoded data removed]",
            "text/plain": [
              "<Figure size 1152x432 with 10 Axes>"
            ]
          },
          "metadata": {
            "tags": [],
            "needs_background": "light"
          }
        }
      ]
    },
    {
      "cell_type": "code",
      "metadata": {
        "id": "PDWLpJ3Sbhzq",
        "colab": {
          "base_uri": "https://localhost:8080/",
          "height": 343
        },
        "outputId": "1bda78a1-a67b-411f-a168-d1dddcdd8b77"
      },
      "source": [
        "# -------- RECONSTRUCTION --------\n",
        "index = 18\n",
        "\n",
        "# Using all eigenvectors from the pca function we attempt to reconstruct an\n",
        "# image from the validation set.\n",
        "reconAll = np.dot(np.dot(X_val_mnist[index,:],eigVec),eigVec.T)\n",
        "reconAll = np.real(reconAll)\n",
        "\n",
        "fig, axis = plt.subplots(1, 2, figsize = (16,6))\n",
        "\n",
        "plt.subplot(1,3,1)\n",
        "plt.title(\"Reconstructed\")\n",
        "plt.imshow(reconAll.reshape((28,28)), interpolation = \"none\", cmap='gray')\n",
        "\n",
        "plt.subplot(1,3,2)\n",
        "plt.title(\"Original\")\n",
        "plt.imshow(X_val_mnist[index,:].reshape((28,28)), interpolation = \"none\", cmap='gray')\n",
        "\n",
        "\n",
        "\n",
        "# -------- ADDITIONAL RECONSTRUCTION --------\n",
        "# The above should answer the question as on the coursework paper.\n",
        "# However on the moodle forom I saw top 10 reconstruction was also required.\n",
        "# Next few lines will attempt to reconstruct the image using top 10 eigenvectors.\n",
        "\n",
        "reconTop = np.dot(np.dot(X_val_mnist[index,:],topComp),topComp.T)\n",
        "reconTop = np.real(reconTop)\n",
        "\n",
        "plt.subplot(1,3,3)\n",
        "plt.title(\"Top 10\")\n",
        "plt.imshow(reconTop.reshape((28,28)), interpolation = \"none\", cmap='gray')"
      ],
      "execution_count": null,
      "outputs": [
        {
          "output_type": "execute_result",
          "data": {
            "text/plain": [
              "<matplotlib.image.AxesImage at 0x7f3f22b9fc88>"
            ]
          },
          "metadata": {
            "tags": []
          },
          "execution_count": 25
        },
        {
          "output_type": "display_data",
          "data": {
            "image/png": "[encoded data removed]",
            "text/plain": [
              "<Figure size 1152x432 with 3 Axes>"
            ]
          },
          "metadata": {
            "tags": [],
            "needs_background": "light"
          }
        }
      ]
    },
    {
      "cell_type": "markdown",
      "metadata": {
        "id": "APslDoZgKogj"
      },
      "source": [
        "Based on these results we can see that using all components we can perfectly recosntruct, however top 10 wont be enough as its missing a lot of data."
      ]
    },
    {
      "cell_type": "code",
      "metadata": {
        "id": "3w5oEWKGImmS"
      },
      "source": [
        "# Question 2-B\n",
        "\n",
        "# Based on distance finds values to add to the cluster\n",
        "# After the claster has been modified we are doing the average to find the \n",
        "# new centroid (center of the centroid)\n",
        "def nextCentroids(X, k, centroids):\n",
        "  \n",
        "  # create an empty copy of the array centroid\n",
        "  nextCent = np.empty_like(centroids)\n",
        "\n",
        "  # Calcualtes the distance between a point value and centroid using the \n",
        "  # euclidian distance\n",
        "  dist = np.sqrt(((X - centroids[:,np.newaxis])**2).sum(axis=2))\n",
        "  closest = np.argmin(dist, axis=0)\n",
        "\n",
        "  # create the clusters dictionary and initialise it with k arrays []\n",
        "  clusters = {i: [] for i in range(k)}\n",
        "\n",
        "  # We add the values based on distance to the clusters\n",
        "  for i, id in enumerate(closest):\n",
        "    clusters[id].append(X[i])\n",
        "\n",
        "  # Calculate the new centroid based on the average of the cluster values\n",
        "  for j in range(k):\n",
        "    nextCent[j] = np.mean(clusters[j], axis = 0)\n",
        "\n",
        "  # Return the new centroid and the clusters\n",
        "  return nextCent, clusters\n",
        "\n",
        "\n",
        "# Checking the centroids if they converged\n",
        "def checkConvergence(old, new, tolerance):\n",
        "  if np.sum(new - old) < tolerance:\n",
        "    return True\n",
        "  return False\n",
        "\n",
        "\n",
        "# The main K-Means functions which takes the dataset and the number of clusters \n",
        "# k we want to split the data into.\n",
        "# The input is X which represents a matrix of size n by m and a variable k which\n",
        "# represents the number of clusters we are going to create using K-Means\n",
        "# The output will be the final centroids which represents the average point in\n",
        "# the middle of the claster as seen in a 2D graph. The other output will be the\n",
        "# clusters key dictionaries.\n",
        "def kmeans(X, k):\n",
        "  # Setup the tolerance and the iteration number for the algorithm\n",
        "  # choosing a large iteration wont help as in the end (of the iterations) the \n",
        "  # algorithm will give the same results\n",
        "  tolerance = 0.001\n",
        "  numIter = 100\n",
        "  \n",
        "  # Standardising/Preparing the data\n",
        "  copyX = np.copy(X)\n",
        "  X = (X - np.min(X))/np.ptp(X)\n",
        "\n",
        "  # Pick random samples for the initial centroids \n",
        "  # k presents how many samples we will return\n",
        "  centroids = X[np.random.choice(X.shape[0], size=k, replace = False), :]\n",
        "\n",
        "  # Compute K-Means and iterate through the data numIter times or after the \n",
        "  # output wont change and it converges\n",
        "  for i in range(numIter):\n",
        "    old = centroids\n",
        "    centroids, clusters = nextCentroids(copyX, k, old)\n",
        "    if checkConvergence(old, centroids, tolerance):\n",
        "      break\n",
        "  \n",
        "  # Return the final Centroids and teh Clusters\n",
        "  return centroids, clusters\n",
        "\n"
      ],
      "execution_count": null,
      "outputs": []
    },
    {
      "cell_type": "code",
      "metadata": {
        "id": "QhtZFPG5I6GG",
        "colab": {
          "base_uri": "https://localhost:8080/",
          "height": 392
        },
        "outputId": "0950ceda-bb70-4b87-a6e4-bbafe49cffe2"
      },
      "source": [
        "# -------- INITIALISE --------\n",
        "\n",
        "# Setup the K value for how many clusters we want to compute on the dataset\n",
        "k = 10\n",
        "centroids, clusters = kmeans(X_train_mnist, k)\n",
        "\n",
        "\n",
        "# -------- PLOTTING --------\n",
        "\n",
        "fig, axis = plt.subplots(2, 5, figsize=(16,6))\n",
        "for i in range(k):\n",
        "  img = centroids[i,:]\n",
        "  plt.subplot(2,5,i+1)\n",
        "  plt.imshow(img.reshape((28,28)), interpolation = \"none\", cmap='gray')\n",
        "\n",
        "plt.plot()"
      ],
      "execution_count": null,
      "outputs": [
        {
          "output_type": "execute_result",
          "data": {
            "text/plain": [
              "[]"
            ]
          },
          "metadata": {
            "tags": []
          },
          "execution_count": 91
        },
        {
          "output_type": "display_data",
          "data": {
            "image/png": "[encoded data removed]",
            "text/plain": [
              "<Figure size 1152x432 with 10 Axes>"
            ]
          },
          "metadata": {
            "tags": [],
            "needs_background": "light"
          }
        }
      ]
    },
    {
      "cell_type": "markdown",
      "metadata": {
        "id": "k1tf5HGKfis7"
      },
      "source": [
        "K-Means is used for unsupervised clustering which means none of the points are classified.\n",
        "In order to classify these points we are choosing (or use a method such as Elbow to find the best) K value which represents the number of clusters in our data.\n",
        "The algorithm will take K random values from the dataset and will assign each to a cluster. \n",
        "Next we will iterate through each point and assignin it to a cluser based on the mean (after 2 or more values were assigned to a cluster). \n",
        "We are going to repeat this process until we optain global optima.\n",
        "\n",
        "\n",
        "The most important difference between K-Means and KNNs is that KNNs is a supervised classification & regressing which is using some labeled date to classify other non labeled values.\n",
        "They both use a distance based calassification to decide what class/cluster some points belong to. \n",
        "In K-Means the K represents the number of clusters we will have at the end but in KNNs we are just choosing how many labeled points will 'vote' on what the closed non labeled points is going to be.\n",
        "\n",
        "\n",
        "\n"
      ]
    },
    {
      "cell_type": "code",
      "metadata": {
        "id": "_o4lZRKO2y03",
        "colab": {
          "base_uri": "https://localhost:8080/",
          "height": 350
        },
        "outputId": "34b9b59d-6011-4fa4-d10b-728fb2eadc6d"
      },
      "source": [
        "# Question 2-C\n",
        "\n",
        "# -------- K-MEANS RECONSTRUCTION LOSS --------\n",
        "index = 1337 # has to be the same as the index in 2A\n",
        "reconKmeans = np.dot(np.dot(X_val_mnist[index,:],centroids.T),centroids)\n",
        "\n",
        "\n",
        "# -------- COMPARING RECONSTRUCTION LOSS --------\n",
        "kmeans = np.sum((X_val_mnist[index,:] - reconKmeans)**2)\n",
        "pca = np.sum((X_val_mnist[index,:] - reconAll)**2)\n",
        "pcaTop = np.sum((X_val_mnist[index,:] - reconTop)**2)\n",
        "\n",
        "print(\"K-Means Loss: \",kmeans)\n",
        "print(\"PCA Loss: \",pca)\n",
        "print(\"PCA Top 10 Loss: \",pcaTop)\n",
        "print()\n",
        "\n",
        "# Plotting the K-Means reconstruction\n",
        "plt.imshow(reconKmeans.reshape((28,28)), interpolation = \"none\", cmap='gray')"
      ],
      "execution_count": null,
      "outputs": [
        {
          "output_type": "stream",
          "text": [
            "K-Means Loss:  3.1316950918235286e+21\n",
            "PCA Loss:  3.860101439912656e-20\n",
            "PCA Top 10 Loss:  1671026.355405117\n",
            "\n"
          ],
          "name": "stdout"
        },
        {
          "output_type": "execute_result",
          "data": {
            "text/plain": [
              "<matplotlib.image.AxesImage at 0x7f333585c208>"
            ]
          },
          "metadata": {
            "tags": []
          },
          "execution_count": 103
        },
        {
          "output_type": "display_data",
          "data": {
            "image/png": "[encoded data removed]",
            "text/plain": [
              "<Figure size 432x288 with 1 Axes>"
            ]
          },
          "metadata": {
            "tags": [],
            "needs_background": "light"
          }
        }
      ]
    },
    {
      "cell_type": "markdown",
      "metadata": {
        "id": "o56IVtQa7PKp"
      },
      "source": [
        "Comparing the Loss of these 3 we can see that K-Means is the lowest, close to the all components PCA but much lower than Top 10 PCA."
      ]
    }
  ]
}